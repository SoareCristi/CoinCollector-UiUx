{
 "cells": [
  {
   "cell_type": "code",
   "execution_count": 1,
   "metadata": {},
   "outputs": [],
   "source": [
    "import requests\n",
    "import random\n",
    "import os\n",
    "import django\n",
    "\n",
    "os.environ.setdefault('DJANGO_SETTINGS_MODULE', 'CoinCollector.settings')\n",
    "django.setup()\n",
    "\n",
    "os.environ[\"DJANGO_ALLOW_ASYNC_UNSAFE\"] = \"true\"\n",
    "\n",
    "\n",
    "from base import models\n",
    "\n",
    "# Parameters\n",
    "base_url = 'https://api.numista.com/api/v3'\n",
    "api_key = '71Vf19kBmiI6IBbo7yuqxtKArU1slD83YOhEVoH'\n",
    "client_id = '378323'"
   ]
  },
  {
   "cell_type": "code",
   "execution_count": 2,
   "metadata": {},
   "outputs": [],
   "source": [
    "# API call to get the list of issuers\n",
    "response = requests.get(\n",
    "  base_url + '/issuers',\n",
    "  params={'lang': 'en'},\n",
    "  headers={'Numista-API-Key': api_key})\n",
    "issuers_response = response.json()"
   ]
  },
  {
   "cell_type": "code",
   "execution_count": 3,
   "metadata": {},
   "outputs": [
    {
     "name": "stdout",
     "output_type": "stream",
     "text": [
      "{'code': 'united-states', 'name': 'United States', 'wikidata_id': 'Q30', 'parent': None}\n",
      "\n"
     ]
    }
   ],
   "source": [
    "search_query = 'Q30'\n",
    "filtered_issuers = [issuer for issuer in issuers_response['issuers'] if search_query == issuer['wikidata_id'] and issuer['parent'] == None]\n",
    "\n",
    "for issuer in filtered_issuers:\n",
    "    print(issuer)\n",
    "    print()"
   ]
  },
  {
   "cell_type": "code",
   "execution_count": 4,
   "metadata": {},
   "outputs": [],
   "source": [
    "issuers_codes = [\n",
    "    'romania_section', #Q218\n",
    "    'france_section', #Q142\n",
    "    'belgium', #Q31\n",
    "    'united-states', #Q30\n",
    "]\n",
    "\n",
    "issuers_currencies = {\n",
    "    'romania_section' : 'RON',\n",
    "    'france_section' : 'EUR',\n",
    "    'belgium' : 'EUR',\n",
    "    'united-states' : 'USD',\n",
    "}\n"
   ]
  },
  {
   "cell_type": "code",
   "execution_count": 5,
   "metadata": {},
   "outputs": [],
   "source": [
    "# API call to search types by issuer\n",
    "def get_types(issuer_code, page=1):\n",
    "\n",
    "  response = requests.get(\n",
    "    base_url + '/types',\n",
    "    params={'category': 'coin', 'issuer': issuer_code, 'count': 50, 'lang': 'en', 'page': page},\n",
    "    headers={'Numista-API-Key': api_key})\n",
    "  types_response = response.json()\n",
    "\n",
    "  # Check response code (simplified)\n",
    "  if response.status_code==401:\n",
    "    raise Exception('The Numista API key is missing or incorrect') \n",
    "  return types_response['types']"
   ]
  },
  {
   "cell_type": "code",
   "execution_count": 6,
   "metadata": {},
   "outputs": [],
   "source": [
    "def insert_coin(id, new_issuer):\n",
    "    response = requests.get(\n",
    "        base_url + '/types/' + str(id),\n",
    "        params={'lang':'en'},\n",
    "        headers={'Numista-API-Key': api_key})\n",
    "    coin_details = response.json()\n",
    "    new_coin = models.Coin( url=coin_details['url'],\n",
    "                            title=coin_details['title'],\n",
    "                            issuer=new_issuer,\n",
    "                            minYear=coin_details['min_year'] if 'min_year' in coin_details else -1,\n",
    "                            maxYear=coin_details['max_year'] if 'max_year' in coin_details else 1,\n",
    "                            weight=coin_details['weight'] if 'weight' in coin_details else -1,\n",
    "                            size=coin_details['size'] if 'size' in coin_details else -1,\n",
    "    )\n",
    "    new_coin.save()\n",
    "\n",
    "    new_coinConverter = models.CoinConverter(coin=new_coin,\n",
    "                                             amount = coin_details['value']['numeric_value'] if 'numeric_value' in coin_details['value'] else 0,\n",
    "                                             currency = models.Currency.objects.get(code=issuers_currencies[new_issuer.code])\n",
    "    )\n",
    "    new_coinConverter.save()"
   ]
  },
  {
   "cell_type": "code",
   "execution_count": 8,
   "metadata": {},
   "outputs": [
    {
     "name": "stdout",
     "output_type": "stream",
     "text": [
      "Currency already exists\n"
     ]
    }
   ],
   "source": [
    "for iss in issuers_codes:\n",
    "    filtered_issuers = [issuer for issuer in issuers_response['issuers'] if issuer['code'] == iss]\n",
    "    if len(filtered_issuers) == 1:\n",
    "        new_issuer = models.Issuer(\n",
    "            name=filtered_issuers[0]['name'],\n",
    "            code=iss,\n",
    "        )\n",
    "        new_issuer.save()\n",
    "\n",
    "        existing_currency = models.Currency.objects.filter(code=issuers_currencies[iss]).exists()\n",
    "        if existing_currency:\n",
    "            print(\"Currency already exists\")\n",
    "        else:\n",
    "            new_currency = models.Currency(code=issuers_currencies[iss])\n",
    "            new_currency.save()\n",
    "\n",
    "    coins = get_types(iss)\n",
    "    for type in coins:\n",
    "        insert_coin(type['id'], new_issuer)"
   ]
  },
  {
   "cell_type": "code",
   "execution_count": 21,
   "metadata": {},
   "outputs": [
    {
     "name": "stdout",
     "output_type": "stream",
     "text": [
      "True\n"
     ]
    }
   ],
   "source": [
    "existing_coin = models.Coin.objects.filter(title='Vaquette - Louis XIII (1st type)').exists()\n",
    "print(existing_coin)"
   ]
  }
 ],
 "metadata": {
  "kernelspec": {
   "display_name": "Django",
   "language": "python",
   "name": "python3"
  },
  "language_info": {
   "codemirror_mode": {
    "name": "ipython",
    "version": 3
   },
   "file_extension": ".py",
   "mimetype": "text/x-python",
   "name": "python",
   "nbconvert_exporter": "python",
   "pygments_lexer": "ipython3",
   "version": "3.11.5"
  }
 },
 "nbformat": 4,
 "nbformat_minor": 2
}
